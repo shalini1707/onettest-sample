{
  "nbformat": 4,
  "nbformat_minor": 0,
  "metadata": {
    "colab": {
      "provenance": []
    },
    "kernelspec": {
      "name": "python3",
      "display_name": "Python 3"
    },
    "language_info": {
      "name": "python"
    }
  },
  "cells": [
    {
      "cell_type": "markdown",
      "source": [
        "# one_sampleTtest"
      ],
      "metadata": {
        "id": "0lAsyRx3DjyY"
      }
    },
    {
      "cell_type": "code",
      "source": [
        "import pandas as pd\n",
        "import numpy as np\n",
        "from scipy import stats"
      ],
      "metadata": {
        "id": "SECPJG5QDoTx"
      },
      "execution_count": 20,
      "outputs": []
    },
    {
      "cell_type": "code",
      "source": [
        "df=pd.read_csv(\"/content/Wine_Quality_Data.csv\")\n",
        "df"
      ],
      "metadata": {
        "colab": {
          "base_uri": "https://localhost:8080/",
          "height": 488
        },
        "id": "BgQFH-3PDsMh",
        "outputId": "0a2ffedd-4fc3-4c55-885e-147cf05ee0f1"
      },
      "execution_count": 9,
      "outputs": [
        {
          "output_type": "execute_result",
          "data": {
            "text/plain": [
              "      fixed_acidity  volatile_acidity  citric_acid  residual_sugar  chlorides  \\\n",
              "0               7.4              0.70         0.00             1.9      0.076   \n",
              "1               7.8              0.88         0.00             2.6      0.098   \n",
              "2               7.8              0.76         0.04             2.3      0.092   \n",
              "3              11.2              0.28         0.56             1.9      0.075   \n",
              "4               7.4              0.70         0.00             1.9      0.076   \n",
              "...             ...               ...          ...             ...        ...   \n",
              "6492            6.2              0.21         0.29             1.6      0.039   \n",
              "6493            6.6              0.32         0.36             8.0      0.047   \n",
              "6494            6.5              0.24         0.19             1.2      0.041   \n",
              "6495            5.5              0.29         0.30             1.1      0.022   \n",
              "6496            6.0              0.21         0.38             0.8      0.020   \n",
              "\n",
              "      free_sulfur_dioxide  total_sulfur_dioxide  density    pH  sulphates  \\\n",
              "0                    11.0                  34.0  0.99780  3.51       0.56   \n",
              "1                    25.0                  67.0  0.99680  3.20       0.68   \n",
              "2                    15.0                  54.0  0.99700  3.26       0.65   \n",
              "3                    17.0                  60.0  0.99800  3.16       0.58   \n",
              "4                    11.0                  34.0  0.99780  3.51       0.56   \n",
              "...                   ...                   ...      ...   ...        ...   \n",
              "6492                 24.0                  92.0  0.99114  3.27       0.50   \n",
              "6493                 57.0                 168.0  0.99490  3.15       0.46   \n",
              "6494                 30.0                 111.0  0.99254  2.99       0.46   \n",
              "6495                 20.0                 110.0  0.98869  3.34       0.38   \n",
              "6496                 22.0                  98.0  0.98941  3.26       0.32   \n",
              "\n",
              "      alcohol  quality  color  \n",
              "0         9.4        5    red  \n",
              "1         9.8        5    red  \n",
              "2         9.8        5    red  \n",
              "3         9.8        6    red  \n",
              "4         9.4        5    red  \n",
              "...       ...      ...    ...  \n",
              "6492     11.2        6  white  \n",
              "6493      9.6        5  white  \n",
              "6494      9.4        6  white  \n",
              "6495     12.8        7  white  \n",
              "6496     11.8        6  white  \n",
              "\n",
              "[6497 rows x 13 columns]"
            ],
            "text/html": [
              "\n",
              "\n",
              "  <div id=\"df-806c22a7-5e18-42b2-8ab8-d54eba1d6aff\">\n",
              "    <div class=\"colab-df-container\">\n",
              "      <div>\n",
              "<style scoped>\n",
              "    .dataframe tbody tr th:only-of-type {\n",
              "        vertical-align: middle;\n",
              "    }\n",
              "\n",
              "    .dataframe tbody tr th {\n",
              "        vertical-align: top;\n",
              "    }\n",
              "\n",
              "    .dataframe thead th {\n",
              "        text-align: right;\n",
              "    }\n",
              "</style>\n",
              "<table border=\"1\" class=\"dataframe\">\n",
              "  <thead>\n",
              "    <tr style=\"text-align: right;\">\n",
              "      <th></th>\n",
              "      <th>fixed_acidity</th>\n",
              "      <th>volatile_acidity</th>\n",
              "      <th>citric_acid</th>\n",
              "      <th>residual_sugar</th>\n",
              "      <th>chlorides</th>\n",
              "      <th>free_sulfur_dioxide</th>\n",
              "      <th>total_sulfur_dioxide</th>\n",
              "      <th>density</th>\n",
              "      <th>pH</th>\n",
              "      <th>sulphates</th>\n",
              "      <th>alcohol</th>\n",
              "      <th>quality</th>\n",
              "      <th>color</th>\n",
              "    </tr>\n",
              "  </thead>\n",
              "  <tbody>\n",
              "    <tr>\n",
              "      <th>0</th>\n",
              "      <td>7.4</td>\n",
              "      <td>0.70</td>\n",
              "      <td>0.00</td>\n",
              "      <td>1.9</td>\n",
              "      <td>0.076</td>\n",
              "      <td>11.0</td>\n",
              "      <td>34.0</td>\n",
              "      <td>0.99780</td>\n",
              "      <td>3.51</td>\n",
              "      <td>0.56</td>\n",
              "      <td>9.4</td>\n",
              "      <td>5</td>\n",
              "      <td>red</td>\n",
              "    </tr>\n",
              "    <tr>\n",
              "      <th>1</th>\n",
              "      <td>7.8</td>\n",
              "      <td>0.88</td>\n",
              "      <td>0.00</td>\n",
              "      <td>2.6</td>\n",
              "      <td>0.098</td>\n",
              "      <td>25.0</td>\n",
              "      <td>67.0</td>\n",
              "      <td>0.99680</td>\n",
              "      <td>3.20</td>\n",
              "      <td>0.68</td>\n",
              "      <td>9.8</td>\n",
              "      <td>5</td>\n",
              "      <td>red</td>\n",
              "    </tr>\n",
              "    <tr>\n",
              "      <th>2</th>\n",
              "      <td>7.8</td>\n",
              "      <td>0.76</td>\n",
              "      <td>0.04</td>\n",
              "      <td>2.3</td>\n",
              "      <td>0.092</td>\n",
              "      <td>15.0</td>\n",
              "      <td>54.0</td>\n",
              "      <td>0.99700</td>\n",
              "      <td>3.26</td>\n",
              "      <td>0.65</td>\n",
              "      <td>9.8</td>\n",
              "      <td>5</td>\n",
              "      <td>red</td>\n",
              "    </tr>\n",
              "    <tr>\n",
              "      <th>3</th>\n",
              "      <td>11.2</td>\n",
              "      <td>0.28</td>\n",
              "      <td>0.56</td>\n",
              "      <td>1.9</td>\n",
              "      <td>0.075</td>\n",
              "      <td>17.0</td>\n",
              "      <td>60.0</td>\n",
              "      <td>0.99800</td>\n",
              "      <td>3.16</td>\n",
              "      <td>0.58</td>\n",
              "      <td>9.8</td>\n",
              "      <td>6</td>\n",
              "      <td>red</td>\n",
              "    </tr>\n",
              "    <tr>\n",
              "      <th>4</th>\n",
              "      <td>7.4</td>\n",
              "      <td>0.70</td>\n",
              "      <td>0.00</td>\n",
              "      <td>1.9</td>\n",
              "      <td>0.076</td>\n",
              "      <td>11.0</td>\n",
              "      <td>34.0</td>\n",
              "      <td>0.99780</td>\n",
              "      <td>3.51</td>\n",
              "      <td>0.56</td>\n",
              "      <td>9.4</td>\n",
              "      <td>5</td>\n",
              "      <td>red</td>\n",
              "    </tr>\n",
              "    <tr>\n",
              "      <th>...</th>\n",
              "      <td>...</td>\n",
              "      <td>...</td>\n",
              "      <td>...</td>\n",
              "      <td>...</td>\n",
              "      <td>...</td>\n",
              "      <td>...</td>\n",
              "      <td>...</td>\n",
              "      <td>...</td>\n",
              "      <td>...</td>\n",
              "      <td>...</td>\n",
              "      <td>...</td>\n",
              "      <td>...</td>\n",
              "      <td>...</td>\n",
              "    </tr>\n",
              "    <tr>\n",
              "      <th>6492</th>\n",
              "      <td>6.2</td>\n",
              "      <td>0.21</td>\n",
              "      <td>0.29</td>\n",
              "      <td>1.6</td>\n",
              "      <td>0.039</td>\n",
              "      <td>24.0</td>\n",
              "      <td>92.0</td>\n",
              "      <td>0.99114</td>\n",
              "      <td>3.27</td>\n",
              "      <td>0.50</td>\n",
              "      <td>11.2</td>\n",
              "      <td>6</td>\n",
              "      <td>white</td>\n",
              "    </tr>\n",
              "    <tr>\n",
              "      <th>6493</th>\n",
              "      <td>6.6</td>\n",
              "      <td>0.32</td>\n",
              "      <td>0.36</td>\n",
              "      <td>8.0</td>\n",
              "      <td>0.047</td>\n",
              "      <td>57.0</td>\n",
              "      <td>168.0</td>\n",
              "      <td>0.99490</td>\n",
              "      <td>3.15</td>\n",
              "      <td>0.46</td>\n",
              "      <td>9.6</td>\n",
              "      <td>5</td>\n",
              "      <td>white</td>\n",
              "    </tr>\n",
              "    <tr>\n",
              "      <th>6494</th>\n",
              "      <td>6.5</td>\n",
              "      <td>0.24</td>\n",
              "      <td>0.19</td>\n",
              "      <td>1.2</td>\n",
              "      <td>0.041</td>\n",
              "      <td>30.0</td>\n",
              "      <td>111.0</td>\n",
              "      <td>0.99254</td>\n",
              "      <td>2.99</td>\n",
              "      <td>0.46</td>\n",
              "      <td>9.4</td>\n",
              "      <td>6</td>\n",
              "      <td>white</td>\n",
              "    </tr>\n",
              "    <tr>\n",
              "      <th>6495</th>\n",
              "      <td>5.5</td>\n",
              "      <td>0.29</td>\n",
              "      <td>0.30</td>\n",
              "      <td>1.1</td>\n",
              "      <td>0.022</td>\n",
              "      <td>20.0</td>\n",
              "      <td>110.0</td>\n",
              "      <td>0.98869</td>\n",
              "      <td>3.34</td>\n",
              "      <td>0.38</td>\n",
              "      <td>12.8</td>\n",
              "      <td>7</td>\n",
              "      <td>white</td>\n",
              "    </tr>\n",
              "    <tr>\n",
              "      <th>6496</th>\n",
              "      <td>6.0</td>\n",
              "      <td>0.21</td>\n",
              "      <td>0.38</td>\n",
              "      <td>0.8</td>\n",
              "      <td>0.020</td>\n",
              "      <td>22.0</td>\n",
              "      <td>98.0</td>\n",
              "      <td>0.98941</td>\n",
              "      <td>3.26</td>\n",
              "      <td>0.32</td>\n",
              "      <td>11.8</td>\n",
              "      <td>6</td>\n",
              "      <td>white</td>\n",
              "    </tr>\n",
              "  </tbody>\n",
              "</table>\n",
              "<p>6497 rows × 13 columns</p>\n",
              "</div>\n",
              "      <button class=\"colab-df-convert\" onclick=\"convertToInteractive('df-806c22a7-5e18-42b2-8ab8-d54eba1d6aff')\"\n",
              "              title=\"Convert this dataframe to an interactive table.\"\n",
              "              style=\"display:none;\">\n",
              "\n",
              "  <svg xmlns=\"http://www.w3.org/2000/svg\" height=\"24px\"viewBox=\"0 0 24 24\"\n",
              "       width=\"24px\">\n",
              "    <path d=\"M0 0h24v24H0V0z\" fill=\"none\"/>\n",
              "    <path d=\"M18.56 5.44l.94 2.06.94-2.06 2.06-.94-2.06-.94-.94-2.06-.94 2.06-2.06.94zm-11 1L8.5 8.5l.94-2.06 2.06-.94-2.06-.94L8.5 2.5l-.94 2.06-2.06.94zm10 10l.94 2.06.94-2.06 2.06-.94-2.06-.94-.94-2.06-.94 2.06-2.06.94z\"/><path d=\"M17.41 7.96l-1.37-1.37c-.4-.4-.92-.59-1.43-.59-.52 0-1.04.2-1.43.59L10.3 9.45l-7.72 7.72c-.78.78-.78 2.05 0 2.83L4 21.41c.39.39.9.59 1.41.59.51 0 1.02-.2 1.41-.59l7.78-7.78 2.81-2.81c.8-.78.8-2.07 0-2.86zM5.41 20L4 18.59l7.72-7.72 1.47 1.35L5.41 20z\"/>\n",
              "  </svg>\n",
              "      </button>\n",
              "\n",
              "\n",
              "\n",
              "    <div id=\"df-c9413da9-f848-493f-b7e3-32835e3f71df\">\n",
              "      <button class=\"colab-df-quickchart\" onclick=\"quickchart('df-c9413da9-f848-493f-b7e3-32835e3f71df')\"\n",
              "              title=\"Suggest charts.\"\n",
              "              style=\"display:none;\">\n",
              "\n",
              "<svg xmlns=\"http://www.w3.org/2000/svg\" height=\"24px\"viewBox=\"0 0 24 24\"\n",
              "     width=\"24px\">\n",
              "    <g>\n",
              "        <path d=\"M19 3H5c-1.1 0-2 .9-2 2v14c0 1.1.9 2 2 2h14c1.1 0 2-.9 2-2V5c0-1.1-.9-2-2-2zM9 17H7v-7h2v7zm4 0h-2V7h2v10zm4 0h-2v-4h2v4z\"/>\n",
              "    </g>\n",
              "</svg>\n",
              "      </button>\n",
              "    </div>\n",
              "\n",
              "<style>\n",
              "  .colab-df-quickchart {\n",
              "    background-color: #E8F0FE;\n",
              "    border: none;\n",
              "    border-radius: 50%;\n",
              "    cursor: pointer;\n",
              "    display: none;\n",
              "    fill: #1967D2;\n",
              "    height: 32px;\n",
              "    padding: 0 0 0 0;\n",
              "    width: 32px;\n",
              "  }\n",
              "\n",
              "  .colab-df-quickchart:hover {\n",
              "    background-color: #E2EBFA;\n",
              "    box-shadow: 0px 1px 2px rgba(60, 64, 67, 0.3), 0px 1px 3px 1px rgba(60, 64, 67, 0.15);\n",
              "    fill: #174EA6;\n",
              "  }\n",
              "\n",
              "  [theme=dark] .colab-df-quickchart {\n",
              "    background-color: #3B4455;\n",
              "    fill: #D2E3FC;\n",
              "  }\n",
              "\n",
              "  [theme=dark] .colab-df-quickchart:hover {\n",
              "    background-color: #434B5C;\n",
              "    box-shadow: 0px 1px 3px 1px rgba(0, 0, 0, 0.15);\n",
              "    filter: drop-shadow(0px 1px 2px rgba(0, 0, 0, 0.3));\n",
              "    fill: #FFFFFF;\n",
              "  }\n",
              "</style>\n",
              "\n",
              "    <script>\n",
              "      async function quickchart(key) {\n",
              "        const containerElement = document.querySelector('#' + key);\n",
              "        const charts = await google.colab.kernel.invokeFunction(\n",
              "            'suggestCharts', [key], {});\n",
              "      }\n",
              "    </script>\n",
              "\n",
              "      <script>\n",
              "\n",
              "function displayQuickchartButton(domScope) {\n",
              "  let quickchartButtonEl =\n",
              "    domScope.querySelector('#df-c9413da9-f848-493f-b7e3-32835e3f71df button.colab-df-quickchart');\n",
              "  quickchartButtonEl.style.display =\n",
              "    google.colab.kernel.accessAllowed ? 'block' : 'none';\n",
              "}\n",
              "\n",
              "        displayQuickchartButton(document);\n",
              "      </script>\n",
              "      <style>\n",
              "    .colab-df-container {\n",
              "      display:flex;\n",
              "      flex-wrap:wrap;\n",
              "      gap: 12px;\n",
              "    }\n",
              "\n",
              "    .colab-df-convert {\n",
              "      background-color: #E8F0FE;\n",
              "      border: none;\n",
              "      border-radius: 50%;\n",
              "      cursor: pointer;\n",
              "      display: none;\n",
              "      fill: #1967D2;\n",
              "      height: 32px;\n",
              "      padding: 0 0 0 0;\n",
              "      width: 32px;\n",
              "    }\n",
              "\n",
              "    .colab-df-convert:hover {\n",
              "      background-color: #E2EBFA;\n",
              "      box-shadow: 0px 1px 2px rgba(60, 64, 67, 0.3), 0px 1px 3px 1px rgba(60, 64, 67, 0.15);\n",
              "      fill: #174EA6;\n",
              "    }\n",
              "\n",
              "    [theme=dark] .colab-df-convert {\n",
              "      background-color: #3B4455;\n",
              "      fill: #D2E3FC;\n",
              "    }\n",
              "\n",
              "    [theme=dark] .colab-df-convert:hover {\n",
              "      background-color: #434B5C;\n",
              "      box-shadow: 0px 1px 3px 1px rgba(0, 0, 0, 0.15);\n",
              "      filter: drop-shadow(0px 1px 2px rgba(0, 0, 0, 0.3));\n",
              "      fill: #FFFFFF;\n",
              "    }\n",
              "  </style>\n",
              "\n",
              "      <script>\n",
              "        const buttonEl =\n",
              "          document.querySelector('#df-806c22a7-5e18-42b2-8ab8-d54eba1d6aff button.colab-df-convert');\n",
              "        buttonEl.style.display =\n",
              "          google.colab.kernel.accessAllowed ? 'block' : 'none';\n",
              "\n",
              "        async function convertToInteractive(key) {\n",
              "          const element = document.querySelector('#df-806c22a7-5e18-42b2-8ab8-d54eba1d6aff');\n",
              "          const dataTable =\n",
              "            await google.colab.kernel.invokeFunction('convertToInteractive',\n",
              "                                                     [key], {});\n",
              "          if (!dataTable) return;\n",
              "\n",
              "          const docLinkHtml = 'Like what you see? Visit the ' +\n",
              "            '<a target=\"_blank\" href=https://colab.research.google.com/notebooks/data_table.ipynb>data table notebook</a>'\n",
              "            + ' to learn more about interactive tables.';\n",
              "          element.innerHTML = '';\n",
              "          dataTable['output_type'] = 'display_data';\n",
              "          await google.colab.output.renderOutput(dataTable, element);\n",
              "          const docLink = document.createElement('div');\n",
              "          docLink.innerHTML = docLinkHtml;\n",
              "          element.appendChild(docLink);\n",
              "        }\n",
              "      </script>\n",
              "    </div>\n",
              "  </div>\n"
            ]
          },
          "metadata": {},
          "execution_count": 9
        }
      ]
    },
    {
      "cell_type": "code",
      "source": [
        "al=df[\"alcohol\"].values\n",
        "al"
      ],
      "metadata": {
        "colab": {
          "base_uri": "https://localhost:8080/"
        },
        "id": "EVzf10gaD8gK",
        "outputId": "89ace663-5481-414c-b12e-d9961bcc2ec7"
      },
      "execution_count": 10,
      "outputs": [
        {
          "output_type": "execute_result",
          "data": {
            "text/plain": [
              "array([ 9.4,  9.8,  9.8, ...,  9.4, 12.8, 11.8])"
            ]
          },
          "metadata": {},
          "execution_count": 10
        }
      ]
    },
    {
      "cell_type": "code",
      "source": [
        "al_mean=al.mean()\n",
        "al_mean"
      ],
      "metadata": {
        "colab": {
          "base_uri": "https://localhost:8080/"
        },
        "id": "UC_G-jOlGoIe",
        "outputId": "f1408052-01bf-428f-b746-95225b58f5f4"
      },
      "execution_count": 23,
      "outputs": [
        {
          "output_type": "execute_result",
          "data": {
            "text/plain": [
              "10.491800831152839"
            ]
          },
          "metadata": {},
          "execution_count": 23
        }
      ]
    },
    {
      "cell_type": "code",
      "source": [
        "sample_size=330\n",
        "al_sample=np.random.choice(al,sample_size)\n",
        "al_sample"
      ],
      "metadata": {
        "colab": {
          "base_uri": "https://localhost:8080/"
        },
        "id": "cmwElyrREGft",
        "outputId": "a90f663b-6820-4115-b648-11c36925423f"
      },
      "execution_count": 18,
      "outputs": [
        {
          "output_type": "execute_result",
          "data": {
            "text/plain": [
              "array([11.        ,  9.4       , 10.5       ,  9.        ,  9.8       ,\n",
              "       10.2       ,  9.1       ,  9.8       , 11.        ,  9.9       ,\n",
              "       12.9       , 10.8       ,  9.7       , 10.6       , 10.5       ,\n",
              "        9.4       , 11.8       , 10.3       , 10.        , 11.        ,\n",
              "       13.6       , 10.8       ,  9.2       , 10.8       , 11.9       ,\n",
              "        9.5       , 11.8       ,  9.9       ,  9.8       , 13.        ,\n",
              "        8.7       , 10.5       ,  9.4       , 13.6       ,  9.4       ,\n",
              "       11.        , 10.        , 12.6       , 11.3       , 12.        ,\n",
              "       11.        , 10.9       ,  8.9       ,  9.4       ,  9.4       ,\n",
              "       11.        , 10.        , 11.8       ,  9.        , 11.1       ,\n",
              "       12.7       ,  9.2       ,  9.5       ,  9.5       ,  9.63333333,\n",
              "       10.2       , 10.2       ,  9.4       ,  9.3       , 10.7       ,\n",
              "        9.1       ,  8.7       , 11.1       ,  9.6       , 10.2       ,\n",
              "        9.        , 11.2       , 13.        , 10.9       , 11.2       ,\n",
              "        9.4       , 10.15      , 12.4       , 10.2       ,  9.        ,\n",
              "        9.5       ,  9.5       , 10.        , 10.        ,  9.4       ,\n",
              "       12.7       , 11.        , 12.        ,  9.8       ,  9.4       ,\n",
              "       12.6       ,  8.9       , 13.2       , 12.2       ,  9.7       ,\n",
              "       10.96666667,  9.5       , 11.        ,  9.5       , 11.        ,\n",
              "       12.1       ,  9.8       , 11.        ,  9.2       , 12.        ,\n",
              "       10.6       , 10.3       , 10.1       ,  9.7       , 11.2       ,\n",
              "       12.7       ,  9.4       , 10.1       , 10.8       ,  9.2       ,\n",
              "        9.5       ,  9.3       , 11.        ,  9.5       ,  9.5       ,\n",
              "        9.        , 12.4       ,  9.7       , 10.9       ,  9.4       ,\n",
              "        8.8       , 10.4       , 10.4       ,  9.1       ,  9.4       ,\n",
              "       12.5       , 10.7       , 10.5       ,  9.5       ,  9.4       ,\n",
              "        9.5       , 10.4       , 11.9       , 10.1       , 11.        ,\n",
              "       10.3       , 12.2       ,  9.2       ,  9.5       , 10.2       ,\n",
              "       11.8       ,  9.3       ,  9.        ,  9.4       , 13.4       ,\n",
              "       12.2       , 10.2       , 10.1       ,  9.5       ,  9.7       ,\n",
              "       11.3       , 10.2       ,  9.2       , 11.4       , 11.8       ,\n",
              "        9.4       , 10.5       , 11.        , 11.9       ,  9.8       ,\n",
              "       11.7       , 12.8       ,  9.3       ,  9.9       , 11.2       ,\n",
              "        9.2       , 13.        ,  9.4       , 10.7       ,  9.7       ,\n",
              "       10.9       ,  9.9       ,  9.5       , 11.9       , 10.2       ,\n",
              "        9.2       , 10.4       , 12.2       ,  9.9       , 10.2       ,\n",
              "       12.5       ,  8.7       , 11.35      ,  9.9       ,  8.8       ,\n",
              "        9.5       ,  9.4       , 12.5       ,  9.4       ,  9.2       ,\n",
              "       12.3       ,  9.3       , 10.        , 10.3       , 10.3       ,\n",
              "       10.7       , 10.4       , 10.        ,  9.8       , 10.8       ,\n",
              "        9.5       , 11.1       , 12.1       ,  9.1       , 10.2       ,\n",
              "       10.8       ,  8.8       ,  9.7       ,  9.        ,  9.1       ,\n",
              "       10.5       ,  9.2       ,  9.5       , 10.4       , 11.5       ,\n",
              "       10.7       , 12.9       , 12.4       , 10.6       ,  9.3       ,\n",
              "        9.6       ,  9.5       , 12.7       , 11.4       ,  9.4       ,\n",
              "       12.5       ,  9.8       ,  9.2       ,  9.3       ,  9.4       ,\n",
              "       12.4       , 11.        ,  9.4       ,  9.8       ,  9.1       ,\n",
              "       11.        ,  8.6       ,  9.6       ,  9.3       ,  8.8       ,\n",
              "       10.5       , 12.6       , 10.        , 10.9       , 11.1       ,\n",
              "       11.9       , 12.4       ,  9.5       , 12.4       , 10.8       ,\n",
              "       10.96666667, 10.6       ,  8.8       , 10.7       , 12.8       ,\n",
              "        9.1       ,  9.5       , 10.8       , 12.8       , 10.6       ,\n",
              "       11.3       , 10.        , 12.        ,  9.5       ,  8.7       ,\n",
              "        9.2       , 10.4       ,  9.6       , 10.5       , 10.9       ,\n",
              "        9.9       , 12.2       , 10.2       , 11.5       ,  9.9       ,\n",
              "        9.5       ,  8.8       , 11.2       , 11.        , 11.4       ,\n",
              "       11.1       , 13.        , 11.4       ,  9.8       , 11.1       ,\n",
              "       10.3       , 10.5       , 10.9       , 12.3       ,  9.        ,\n",
              "       11.2       , 10.6       ,  9.6       ,  9.7       , 11.1       ,\n",
              "        9.2       , 12.        ,  9.4       , 12.5       , 11.4       ,\n",
              "        9.5       ,  9.5       ,  9.6       , 10.5       , 12.7       ,\n",
              "       12.6       , 11.2       , 10.        , 11.4       ,  9.9       ,\n",
              "        8.8       , 11.7       , 12.1       , 10.6       , 10.3       ,\n",
              "       11.1       , 11.7       , 11.2       ,  9.2       , 12.2       ,\n",
              "        9.4       , 10.5       ,  9.5       , 10.        , 12.8       ,\n",
              "       11.1       , 12.7       , 12.4       ,  8.8       , 10.3       ])"
            ]
          },
          "metadata": {},
          "execution_count": 18
        }
      ]
    },
    {
      "cell_type": "code",
      "source": [
        "al_sample.mean()"
      ],
      "metadata": {
        "colab": {
          "base_uri": "https://localhost:8080/"
        },
        "id": "5QmVsG_3HApj",
        "outputId": "5e8dd82e-6601-4a80-f2bd-adda888d1a61"
      },
      "execution_count": 19,
      "outputs": [
        {
          "output_type": "execute_result",
          "data": {
            "text/plain": [
              "10.485656565656566"
            ]
          },
          "metadata": {},
          "execution_count": 19
        }
      ]
    },
    {
      "cell_type": "code",
      "source": [
        "Ttest,pvalue=stats.ttest_1samp(al_sample,al_mean)"
      ],
      "metadata": {
        "id": "BlVu6evQHH-p"
      },
      "execution_count": 24,
      "outputs": []
    },
    {
      "cell_type": "code",
      "source": [
        "pvalue"
      ],
      "metadata": {
        "colab": {
          "base_uri": "https://localhost:8080/"
        },
        "id": "400zwzX4H6ib",
        "outputId": "4df7e6ad-27a9-4268-c24e-7f4d21a88af7"
      },
      "execution_count": 25,
      "outputs": [
        {
          "output_type": "execute_result",
          "data": {
            "text/plain": [
              "0.9251491705719431"
            ]
          },
          "metadata": {},
          "execution_count": 25
        }
      ]
    },
    {
      "cell_type": "code",
      "source": [
        "if pvalue<0.8:\n",
        "  print(\"Null hypothsis h0 is rejected,ha is accepted\")\n",
        "else:\n",
        "  print(\"null hypothesis h0 is accpted,ha is rejected\")"
      ],
      "metadata": {
        "colab": {
          "base_uri": "https://localhost:8080/"
        },
        "id": "Gcoa6Fy7HsiR",
        "outputId": "13535074-758c-4d0d-a3b1-0444d96f11a9"
      },
      "execution_count": 27,
      "outputs": [
        {
          "output_type": "stream",
          "name": "stdout",
          "text": [
            "null hypothesis h0 is accpted,ha is rejected\n"
          ]
        }
      ]
    },
    {
      "cell_type": "code",
      "source": [
        "sample_size=500\n",
        "al_sample=np.random.choice(al,sample_size)\n",
        "al_sample"
      ],
      "metadata": {
        "colab": {
          "base_uri": "https://localhost:8080/"
        },
        "id": "jqaGR5B9IXEF",
        "outputId": "6e75aa74-f3a1-412c-a2c6-26fb57003062"
      },
      "execution_count": 28,
      "outputs": [
        {
          "output_type": "execute_result",
          "data": {
            "text/plain": [
              "array([12.7       , 10.9       ,  9.5       , 10.4       ,  9.9       ,\n",
              "        9.2       , 11.3       ,  9.        , 12.5       , 10.7       ,\n",
              "       12.        , 12.1       , 12.33333333, 10.4       ,  9.9       ,\n",
              "       10.        , 10.5       , 12.7       , 11.6       , 10.4       ,\n",
              "       12.5       ,  9.5       ,  8.7       , 11.4       , 12.7       ,\n",
              "       10.3       ,  9.5       , 11.8       ,  9.8       , 10.8       ,\n",
              "        9.3       ,  9.4       , 12.7       , 11.2       , 12.        ,\n",
              "       10.2       , 10.        ,  9.4       , 12.4       , 10.        ,\n",
              "       11.1       ,  9.5       ,  9.6       ,  9.5       , 10.        ,\n",
              "       12.2       , 10.        ,  9.7       , 11.1       , 10.5       ,\n",
              "        9.5       , 10.8       ,  9.7       , 11.5       ,  9.7       ,\n",
              "       10.6       ,  9.2       , 11.        , 12.3       , 11.        ,\n",
              "       11.1       , 10.        , 10.5       , 13.4       ,  9.4       ,\n",
              "       10.6       , 11.4       , 11.6       , 10.2       ,  9.        ,\n",
              "       13.1       ,  9.        , 10.1       , 11.4       ,  9.8       ,\n",
              "        9.5       ,  9.8       , 10.4       ,  9.7       , 10.4       ,\n",
              "        9.5       , 10.1       , 11.4       , 10.5       ,  9.8       ,\n",
              "        9.        , 11.2       , 10.7       ,  9.4       , 11.2       ,\n",
              "        9.7       , 12.5       , 12.2       ,  9.5       , 11.3       ,\n",
              "        9.1       , 10.9       ,  9.3       ,  9.4       , 10.        ,\n",
              "       10.9       , 10.6       , 11.1       ,  9.2       ,  8.5       ,\n",
              "       11.4       , 10.5       , 13.2       , 10.8       ,  8.8       ,\n",
              "       11.2       , 11.8       , 10.5       ,  9.7       , 10.5       ,\n",
              "       10.5       , 12.5       ,  9.9       ,  9.9       ,  9.6       ,\n",
              "       10.        , 10.6       ,  9.7       , 10.6       , 12.        ,\n",
              "        9.8       , 10.5       , 12.2       ,  8.7       ,  9.4       ,\n",
              "       12.1       , 10.        , 11.8       ,  9.9       , 10.9       ,\n",
              "        8.9       , 10.9       , 10.3       , 10.3       ,  9.        ,\n",
              "       11.3       ,  9.8       ,  9.2       ,  9.3       , 11.3       ,\n",
              "        9.8       , 10.6       , 10.1       , 10.5       , 10.4       ,\n",
              "       10.2       ,  9.8       , 12.3       ,  9.5       , 10.1       ,\n",
              "       10.8       ,  9.5       , 11.2       , 12.8       , 11.1       ,\n",
              "       10.7       , 12.6       , 11.2       , 12.6       ,  8.8       ,\n",
              "        9.7       , 11.4       , 10.2       ,  9.8       ,  9.5       ,\n",
              "       10.9       ,  9.5       , 12.2       ,  9.7       , 12.2       ,\n",
              "       13.5       ,  8.8       , 10.5       ,  9.5       ,  9.8       ,\n",
              "        9.4       , 10.1       , 12.9       ,  8.9       , 10.8       ,\n",
              "       10.4       ,  8.7       ,  9.7       , 12.3       ,  9.6       ,\n",
              "        8.8       ,  8.7       ,  9.4       , 12.3       , 11.3       ,\n",
              "       12.        , 10.3       , 11.        ,  9.3       ,  9.5       ,\n",
              "        9.4       ,  9.4       , 11.        ,  9.6       ,  9.        ,\n",
              "        9.3       , 10.        , 10.8       , 13.1       , 11.7       ,\n",
              "        9.6       , 11.2       , 11.6       , 10.2       , 10.        ,\n",
              "        9.        , 12.4       , 10.9       ,  9.8       , 11.        ,\n",
              "        9.5       ,  9.1       ,  9.1       ,  9.3       , 12.3       ,\n",
              "       12.1       ,  9.1       , 10.2       , 10.8       , 11.2       ,\n",
              "        9.7       , 10.6       , 12.3       ,  9.1       , 10.7       ,\n",
              "       10.4       , 10.8       , 13.5       , 10.7       , 12.9       ,\n",
              "       10.8       , 10.3       , 12.5       ,  9.5       , 11.5       ,\n",
              "       11.1       , 10.6       , 10.9       , 10.6       , 10.1       ,\n",
              "        9.2       , 12.1       ,  9.3       , 13.6       , 10.5       ,\n",
              "       10.1       , 10.8       , 10.9       , 10.8       ,  9.2       ,\n",
              "       10.        , 12.        , 11.3       ,  8.9       , 12.2       ,\n",
              "       13.        ,  9.        , 12.8       , 12.6       ,  9.4       ,\n",
              "       10.2       ,  9.5       , 12.5       ,  8.9       ,  9.4       ,\n",
              "       11.3       , 12.7       , 10.9       , 10.1       ,  9.8       ,\n",
              "        9.2       ,  9.4       ,  9.5       ,  9.4       , 11.2       ,\n",
              "        9.3       , 11.        ,  9.5       , 10.5       ,  9.9       ,\n",
              "        9.4       , 13.4       , 11.4       ,  9.        , 10.4       ,\n",
              "       12.3       , 10.4       ,  9.2       , 12.7       , 11.7       ,\n",
              "       11.8       , 12.6       , 10.2       ,  9.5       ,  8.7       ,\n",
              "       11.9       ,  8.7       ,  9.6       ,  9.4       , 10.5       ,\n",
              "        9.4       ,  9.9       , 10.9       , 10.5       ,  9.4       ,\n",
              "       10.4       ,  9.4       , 13.5       , 10.5       , 10.4       ,\n",
              "       10.6       , 11.2       ,  9.        , 12.4       , 10.6       ,\n",
              "       12.4       ,  9.5       , 11.        ,  9.2       , 11.        ,\n",
              "       11.5       ,  8.9       ,  9.3       ,  9.5       , 10.1       ,\n",
              "       11.        , 11.8       , 11.4       , 12.3       , 10.6       ,\n",
              "       11.        ,  9.1       ,  9.8       , 10.6       , 10.9       ,\n",
              "       10.        ,  9.7       , 10.4       ,  9.4       , 11.2       ,\n",
              "       12.3       ,  9.55      , 10.8       ,  9.8       ,  9.6       ,\n",
              "        9.4       ,  9.7       , 12.2       ,  9.6       , 10.8       ,\n",
              "       10.2       ,  9.5       ,  9.9       ,  9.4       ,  9.5       ,\n",
              "        9.5       , 12.5       ,  9.5       , 11.1       , 10.7       ,\n",
              "       11.9       , 11.2       ,  9.3       , 10.5       , 11.2       ,\n",
              "       12.7       , 10.9       ,  9.5       ,  9.6       , 12.5       ,\n",
              "        9.5       ,  9.7       ,  8.7       ,  9.8       ,  8.8       ,\n",
              "       10.8       , 10.7       ,  9.9       , 10.8       ,  9.3       ,\n",
              "       11.6       ,  9.2       , 10.        , 11.7       , 10.3       ,\n",
              "       13.6       , 11.        ,  9.8       , 11.75      , 11.        ,\n",
              "        9.9       ,  9.3       ,  9.2       , 11.6       , 10.5       ,\n",
              "       11.9       , 10.9       ,  9.6       , 11.7       , 13.1       ,\n",
              "       10.        ,  9.5       ,  9.5       ,  9.5       , 10.1       ,\n",
              "       12.1       , 10.4       ,  9.8       , 10.53333333, 11.4       ,\n",
              "       11.        , 10.2       , 10.6       , 11.63333333, 10.2       ,\n",
              "        9.4       , 10.        , 10.15      , 11.        ,  9.9       ,\n",
              "       11.7       , 11.        ,  9.2       , 11.6       , 11.1       ,\n",
              "       10.        ,  9.4       , 11.        ,  9.1       ,  9.        ,\n",
              "        8.7       , 10.9       , 11.        , 10.7       , 10.2       ,\n",
              "       12.        , 14.        ,  9.2       , 13.4       ,  9.5       ,\n",
              "       12.6       ,  9.8       , 13.        , 12.8       , 11.4       ,\n",
              "       11.4       , 11.4       ,  9.        ,  8.8       , 11.2       ,\n",
              "       12.9       ,  9.7       , 11.4       , 11.9       , 11.4       ,\n",
              "        9.4       ,  9.4       , 11.6       , 11.5       ,  9.9       ,\n",
              "       12.6       , 12.7       , 10.        ,  8.8       ,  9.7       ,\n",
              "        9.6       , 10.9       , 11.1       ,  9.        , 12.2       ,\n",
              "       12.1       , 11.2       , 12.5       ,  9.4       ,  8.9       ,\n",
              "       10.3       ,  8.8       , 11.3       , 11.1       ,  9.5       ,\n",
              "        9.4       ,  9.4       , 10.6       , 12.6       , 12.        ,\n",
              "       11.4       ,  9.1       , 11.7       ,  8.8       , 11.7       ])"
            ]
          },
          "metadata": {},
          "execution_count": 28
        }
      ]
    },
    {
      "cell_type": "code",
      "source": [
        "al_mean1=al.mean()\n",
        "al_sample_mean=al_sample.mean()\n",
        "al_mean1,al_sample_mean"
      ],
      "metadata": {
        "colab": {
          "base_uri": "https://localhost:8080/"
        },
        "id": "VdOB-6xFIZqr",
        "outputId": "0839f5d0-c463-44fc-9dd2-7381d4916e36"
      },
      "execution_count": 33,
      "outputs": [
        {
          "output_type": "execute_result",
          "data": {
            "text/plain": [
              "(10.491800831152839, 10.5555)"
            ]
          },
          "metadata": {},
          "execution_count": 33
        }
      ]
    },
    {
      "cell_type": "code",
      "source": [
        "Ttest,pvalue=stats.ttest_1samp(al_sample,al_mean1)"
      ],
      "metadata": {
        "id": "avXHYZOfIwos"
      },
      "execution_count": 39,
      "outputs": []
    },
    {
      "cell_type": "code",
      "source": [
        "pop=df[\"pH\"].values"
      ],
      "metadata": {
        "id": "JLzpy0OjKcOR"
      },
      "execution_count": 41,
      "outputs": []
    },
    {
      "cell_type": "code",
      "source": [
        "pop"
      ],
      "metadata": {
        "colab": {
          "base_uri": "https://localhost:8080/"
        },
        "id": "IAetGk-UKe_9",
        "outputId": "3cdc5c73-06c7-4a27-efdf-c9fe08d86823"
      },
      "execution_count": 42,
      "outputs": [
        {
          "output_type": "execute_result",
          "data": {
            "text/plain": [
              "array([3.51, 3.2 , 3.26, ..., 2.99, 3.34, 3.26])"
            ]
          },
          "metadata": {},
          "execution_count": 42
        }
      ]
    },
    {
      "cell_type": "code",
      "source": [
        "pop_mean=pop.mean()\n",
        "pop_mean"
      ],
      "metadata": {
        "colab": {
          "base_uri": "https://localhost:8080/"
        },
        "id": "Fug5GaqcKii0",
        "outputId": "dcd8f525-d4c0-4e5d-cc9b-5517dda1f205"
      },
      "execution_count": 43,
      "outputs": [
        {
          "output_type": "execute_result",
          "data": {
            "text/plain": [
              "3.2185008465445586"
            ]
          },
          "metadata": {},
          "execution_count": 43
        }
      ]
    },
    {
      "cell_type": "code",
      "source": [
        "pop_size=500\n",
        "pop_sample=np.random.choice(pop,pop_size)\n",
        "pop_sample"
      ],
      "metadata": {
        "colab": {
          "base_uri": "https://localhost:8080/"
        },
        "id": "n0Z78k-nKl1N",
        "outputId": "78c77b90-0ea3-447e-87ed-5f51b11e0cdf"
      },
      "execution_count": 44,
      "outputs": [
        {
          "output_type": "execute_result",
          "data": {
            "text/plain": [
              "array([3.03, 3.16, 3.05, 3.44, 3.31, 3.44, 3.18, 3.17, 3.2 , 3.03, 3.2 ,\n",
              "       3.38, 2.99, 3.15, 3.12, 3.3 , 3.51, 3.21, 2.89, 3.08, 3.26, 3.36,\n",
              "       3.48, 3.37, 3.51, 2.97, 3.14, 2.96, 3.01, 3.46, 3.28, 3.32, 3.22,\n",
              "       3.37, 3.  , 3.11, 3.09, 3.34, 2.89, 3.22, 3.05, 3.24, 2.9 , 3.23,\n",
              "       3.2 , 3.52, 3.44, 3.34, 3.2 , 3.45, 3.34, 3.24, 3.18, 3.48, 3.25,\n",
              "       3.09, 3.26, 3.18, 3.27, 3.32, 3.32, 3.2 , 3.12, 3.05, 3.31, 3.04,\n",
              "       3.37, 3.36, 3.2 , 3.16, 3.31, 3.18, 3.03, 3.03, 3.3 , 3.21, 3.13,\n",
              "       3.31, 3.09, 3.29, 3.12, 3.21, 3.16, 2.95, 3.31, 3.42, 3.23, 3.22,\n",
              "       3.53, 3.35, 3.15, 3.2 , 3.24, 3.06, 3.26, 3.12, 3.08, 3.24, 3.12,\n",
              "       3.22, 3.45, 3.17, 3.3 , 3.24, 3.11, 2.92, 3.23, 3.16, 3.09, 3.25,\n",
              "       2.98, 3.32, 3.35, 3.13, 3.26, 3.08, 3.18, 3.38, 3.19, 3.1 , 3.31,\n",
              "       3.57, 3.08, 3.17, 3.62, 3.42, 3.  , 3.23, 3.24, 3.1 , 3.19, 3.18,\n",
              "       3.32, 3.12, 3.27, 2.98, 3.27, 3.25, 3.23, 3.39, 3.13, 2.98, 3.35,\n",
              "       3.12, 3.19, 3.19, 3.03, 3.14, 3.14, 3.12, 3.22, 3.55, 3.49, 3.4 ,\n",
              "       3.16, 3.1 , 3.41, 3.37, 3.14, 3.32, 3.22, 3.  , 3.04, 3.25, 3.5 ,\n",
              "       3.23, 3.16, 3.38, 3.08, 3.24, 3.37, 3.18, 3.38, 3.06, 3.36, 3.17,\n",
              "       3.17, 3.32, 3.13, 3.39, 3.14, 3.22, 3.  , 3.03, 3.36, 3.  , 3.1 ,\n",
              "       3.19, 3.31, 3.32, 3.  , 3.23, 3.25, 3.31, 3.28, 3.15, 3.22, 3.24,\n",
              "       3.34, 3.1 , 3.24, 3.61, 3.48, 3.12, 3.3 , 3.34, 3.23, 3.36, 3.38,\n",
              "       3.54, 3.31, 3.52, 3.08, 3.16, 3.12, 3.08, 3.09, 2.98, 3.32, 3.19,\n",
              "       3.08, 3.36, 3.38, 3.22, 3.41, 3.44, 3.09, 3.14, 3.14, 3.38, 3.19,\n",
              "       3.49, 3.2 , 3.3 , 3.24, 3.44, 3.57, 3.26, 3.25, 3.41, 3.12, 3.32,\n",
              "       3.51, 3.2 , 3.18, 3.21, 3.03, 3.42, 3.07, 3.61, 3.3 , 3.55, 3.01,\n",
              "       3.3 , 2.96, 3.23, 3.13, 3.07, 3.  , 3.01, 3.22, 3.61, 3.01, 3.32,\n",
              "       3.15, 3.08, 3.19, 3.18, 3.34, 3.28, 3.16, 3.15, 3.25, 3.04, 3.13,\n",
              "       3.11, 3.31, 3.3 , 3.37, 3.23, 3.22, 3.03, 3.25, 3.22, 3.08, 3.3 ,\n",
              "       3.26, 3.43, 3.29, 3.19, 3.23, 3.18, 3.3 , 3.25, 3.06, 3.19, 2.99,\n",
              "       3.36, 3.16, 2.98, 3.31, 3.16, 3.16, 3.22, 3.01, 3.26, 3.29, 3.21,\n",
              "       3.6 , 3.22, 3.09, 3.31, 2.95, 3.13, 3.05, 3.25, 3.29, 3.13, 3.05,\n",
              "       3.06, 3.74, 3.01, 3.26, 3.15, 3.47, 3.13, 3.2 , 3.39, 3.4 , 3.11,\n",
              "       3.1 , 3.13, 3.36, 3.12, 3.14, 3.56, 3.09, 3.3 , 3.2 , 3.29, 3.31,\n",
              "       3.27, 3.43, 2.96, 3.32, 3.14, 3.12, 3.38, 3.06, 3.42, 3.07, 3.42,\n",
              "       3.56, 3.09, 3.  , 3.15, 3.3 , 3.24, 3.21, 3.29, 3.29, 3.37, 3.19,\n",
              "       2.74, 3.53, 3.45, 3.17, 3.3 , 3.43, 3.03, 3.19, 3.4 , 3.17, 3.22,\n",
              "       3.24, 3.22, 3.12, 3.38, 3.26, 3.08, 3.06, 3.32, 3.26, 3.14, 3.22,\n",
              "       2.93, 3.47, 3.22, 3.32, 3.6 , 3.61, 3.19, 3.08, 3.72, 3.07, 3.32,\n",
              "       2.93, 3.38, 3.06, 3.26, 3.23, 3.39, 2.9 , 3.06, 2.99, 3.12, 3.47,\n",
              "       3.2 , 3.  , 3.05, 3.33, 3.35, 3.63, 3.29, 3.02, 3.34, 3.57, 3.26,\n",
              "       3.15, 3.32, 3.47, 3.08, 3.3 , 3.25, 3.34, 3.25, 3.32, 3.36, 3.31,\n",
              "       3.2 , 3.33, 3.25, 3.4 , 2.95, 3.22, 3.11, 3.36, 3.27, 3.38, 3.1 ,\n",
              "       3.45, 3.41, 3.28, 3.16, 3.1 , 3.29, 3.18, 3.09, 3.17, 3.21, 3.05,\n",
              "       3.19, 3.35, 3.07, 3.06, 3.15, 3.28, 3.1 , 3.16, 3.12, 3.45, 3.23,\n",
              "       3.13, 3.39, 3.22, 3.41, 3.  , 2.9 , 3.26, 3.16, 3.39, 3.56, 3.12,\n",
              "       3.38, 3.24, 3.16, 2.96, 3.38, 3.26, 3.36, 3.44, 3.16, 3.2 , 3.16,\n",
              "       2.93, 3.  , 3.24, 3.23, 3.33, 3.23, 3.66, 3.44, 2.98, 3.03, 3.4 ,\n",
              "       3.53, 3.45, 3.32, 3.18, 3.08])"
            ]
          },
          "metadata": {},
          "execution_count": 44
        }
      ]
    },
    {
      "cell_type": "code",
      "source": [
        "pop1=pop_sample.mean()\n",
        "pop1"
      ],
      "metadata": {
        "colab": {
          "base_uri": "https://localhost:8080/"
        },
        "id": "sHL4c3wQKo6N",
        "outputId": "c2de90ea-41da-4592-e03d-b9c7e0446db1"
      },
      "execution_count": 45,
      "outputs": [
        {
          "output_type": "execute_result",
          "data": {
            "text/plain": [
              "3.22954"
            ]
          },
          "metadata": {},
          "execution_count": 45
        }
      ]
    },
    {
      "cell_type": "code",
      "source": [
        "Ttest,pvlaue=stats.ttest_1samp(pop_sample,pop_mean)"
      ],
      "metadata": {
        "id": "6BV1IXxQKsEF"
      },
      "execution_count": 46,
      "outputs": []
    },
    {
      "cell_type": "code",
      "source": [
        "pvlaue"
      ],
      "metadata": {
        "colab": {
          "base_uri": "https://localhost:8080/"
        },
        "id": "4ZkKwIUQKu70",
        "outputId": "f4fad782-3e93-4f98-c0a0-cf46a2f9ccab"
      },
      "execution_count": 47,
      "outputs": [
        {
          "output_type": "execute_result",
          "data": {
            "text/plain": [
              "0.1186386253727075"
            ]
          },
          "metadata": {},
          "execution_count": 47
        }
      ]
    },
    {
      "cell_type": "code",
      "source": [
        "if pvlaue<0.05:\n",
        "  print(\"Null hypothsis h0 is rejected,ha is accepted\")\n",
        "else:\n",
        "  print(\"null hypothesis h0 is accpted,ha is rejected\")"
      ],
      "metadata": {
        "colab": {
          "base_uri": "https://localhost:8080/"
        },
        "id": "eIROAGHpKyS8",
        "outputId": "5b7b981d-dbc3-43ce-dd40-3b1eb01fadb3"
      },
      "execution_count": 48,
      "outputs": [
        {
          "output_type": "stream",
          "name": "stdout",
          "text": [
            "null hypothesis h0 is accpted,ha is rejected\n"
          ]
        }
      ]
    }
  ]
}